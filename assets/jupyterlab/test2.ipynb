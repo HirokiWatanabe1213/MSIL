{
 "cells": [
  {
   "cell_type": "code",
   "execution_count": 1,
   "id": "6812e625-f777-4a74-a738-884c97d5183f",
   "metadata": {
    "id": "fffec4f3-14d2-4efd-9943-c2534285bd5e",
    "tags": []
   },
   "outputs": [
    {
     "name": "stdout",
     "output_type": "stream",
     "text": [
      "test\n"
     ]
    }
   ],
   "source": [
    "print(\"test\")"
   ]
  },
  {
   "cell_type": "code",
   "execution_count": null,
   "id": "2c281d3e-546a-48f5-ba22-983cec9e83a4",
   "metadata": {
    "id": "2c281d3e-546a-48f5-ba22-983cec9e83a4"
   },
   "outputs": [],
   "source": []
  }
 ],
 "metadata": {
  "kernelspec": {
   "display_name": "Python 3.9",
   "language": "python",
   "name": "python3"
  },
  "language_info": {
   "codemirror_mode": {
    "name": "ipython",
    "version": 3
   },
   "file_extension": ".py",
   "mimetype": "text/x-python",
   "name": "python",
   "nbconvert_exporter": "python",
   "pygments_lexer": "ipython3",
   "version": "3.9.12"
  }
 },
 "nbformat": 4,
 "nbformat_minor": 5
}
