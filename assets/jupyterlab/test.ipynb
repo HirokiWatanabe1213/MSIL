{
 "cells": [
  {
   "cell_type": "code",
   "execution_count": 1,
   "id": "b047e830-bceb-4197-a9e0-fa4874b81cc5",
   "metadata": {
    "id": "64039433-ff28-4c76-a855-0a6888f5a965",
    "tags": []
   },
   "outputs": [
    {
     "name": "stdout",
     "output_type": "stream",
     "text": [
      "test\n"
     ]
    }
   ],
   "source": [
    "print(\"test\")"
   ]
  },
  {
   "cell_type": "code",
   "execution_count": null,
   "id": "facfad5d-9372-48a8-9bea-34158651f277",
   "metadata": {
    "id": "facfad5d-9372-48a8-9bea-34158651f277"
   },
   "outputs": [],
   "source": []
  }
 ],
 "metadata": {
  "kernelspec": {
   "display_name": "Python 3.9",
   "language": "python",
   "name": "python3"
  },
  "language_info": {
   "codemirror_mode": {
    "name": "ipython",
    "version": 3
   },
   "file_extension": ".py",
   "mimetype": "text/x-python",
   "name": "python",
   "nbconvert_exporter": "python",
   "pygments_lexer": "ipython3",
   "version": "3.9.12"
  }
 },
 "nbformat": 4,
 "nbformat_minor": 5
}
