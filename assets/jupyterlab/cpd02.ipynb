{
 "cells": [
  {
   "cell_type": "code",
   "execution_count": 1,
   "id": "14f5f8e3-ca1a-49f8-a182-9b7ce4a46e7e",
   "metadata": {
    "id": "7ecfe995-0ddb-40de-a133-7c33492c30a7",
    "tags": []
   },
   "outputs": [
    {
     "name": "stdout",
     "output_type": "stream",
     "text": [
      "test\n"
     ]
    }
   ],
   "source": [
    "print(\"test\")"
   ]
  },
  {
   "cell_type": "code",
   "execution_count": null,
   "id": "bd979654-2460-44f2-b6f0-7fc693943f76",
   "metadata": {
    "id": "bd979654-2460-44f2-b6f0-7fc693943f76"
   },
   "outputs": [],
   "source": []
  }
 ],
 "metadata": {
  "kernelspec": {
   "display_name": "Python 3.9",
   "language": "python",
   "name": "python3"
  },
  "language_info": {
   "codemirror_mode": {
    "name": "ipython",
    "version": 3
   },
   "file_extension": ".py",
   "mimetype": "text/x-python",
   "name": "python",
   "nbconvert_exporter": "python",
   "pygments_lexer": "ipython3",
   "version": "3.9.12"
  }
 },
 "nbformat": 4,
 "nbformat_minor": 5
}
